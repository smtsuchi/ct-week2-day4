{
 "cells": [
  {
   "cell_type": "markdown",
   "metadata": {},
   "source": [
    "# Object-Oriented-Programming (OOP)"
   ]
  },
  {
   "cell_type": "markdown",
   "metadata": {},
   "source": [
    "## Tasks Today:\n",
    "\n",
    "   \n",
    "\n",
    "1) <b>Creating a Class (Initializing/Declaring)</b> <br>\n",
    "2) <b>Using a Class (Instantiating)</b> <br>\n",
    " &nbsp;&nbsp;&nbsp;&nbsp; a) Creating One Instance <br>\n",
    " &nbsp;&nbsp;&nbsp;&nbsp; b) Creating Multiple Instances <br>\n",
    " &nbsp;&nbsp;&nbsp;&nbsp; c) In-Class Exercise #1 - Create a Class 'Car' and instantiate three different makes of cars <br>\n",
    "3) <b>The \\__init\\__() Method</b> <br>\n",
    " &nbsp;&nbsp;&nbsp;&nbsp; a) The 'self' Attribute <br>\n",
    "4) <b>Class Attributes</b> <br>\n",
    " &nbsp;&nbsp;&nbsp;&nbsp; a) Initializing Attributes <br>\n",
    " &nbsp;&nbsp;&nbsp;&nbsp; b) Setting an Attribute Outside of the \\__init\\__() Method <br>\n",
    " &nbsp;&nbsp;&nbsp;&nbsp; c) Setting Defaults for Attributes <br>\n",
    " &nbsp;&nbsp;&nbsp;&nbsp; d) Accessing Class Attributes <br>\n",
    " &nbsp;&nbsp;&nbsp;&nbsp; e) Changing Class Attributes <br>\n",
    " &nbsp;&nbsp;&nbsp;&nbsp; f) In-Class Exercise #2 - Add a color and wheels attribute to your 'Car' class <br>\n",
    "5) <b>Class Methods</b> <br>\n",
    " &nbsp;&nbsp;&nbsp;&nbsp; a) Creating <br>\n",
    " &nbsp;&nbsp;&nbsp;&nbsp; b) Calling <br>\n",
    " &nbsp;&nbsp;&nbsp;&nbsp; c) Modifying an Attribute's Value Through a Method <br>\n",
    " &nbsp;&nbsp;&nbsp;&nbsp; d) Incrementing an Attribute's Value Through a Method <br>\n",
    " &nbsp;&nbsp;&nbsp;&nbsp; e) In-Class Exercise #3 - Add a method that prints the cars color and wheel number, then call them <br>\n",
    "6) <b>Inheritance</b> <br>\n",
    " &nbsp;&nbsp;&nbsp;&nbsp; a) Syntax for Inheriting from a Parent Class <br>\n",
    " &nbsp;&nbsp;&nbsp;&nbsp; b) The \\__init\\__() Method for a Child Class (super()) <br>\n",
    " &nbsp;&nbsp;&nbsp;&nbsp; c) Defining Attributes and Methods for the Child Class <br>\n",
    " &nbsp;&nbsp;&nbsp;&nbsp; d) Method Overriding <br>\n",
    " &nbsp;&nbsp;&nbsp;&nbsp; e) In-Class Exercise #4 - Create a class 'Ford' that inherits from 'Car' class and initialize it as a Blue Ford Explorer with 4 wheels using the super() method <br>\n",
    "7) <b>Classes as Attributes</b> <br>\n",
    "8) <b>Exercises</b> <br>\n",
    " &nbsp;&nbsp;&nbsp;&nbsp; a) Exercise #1 - Turn the shopping cart program from yesterday into an object-oriented program <br>"
   ]
  },
  {
   "cell_type": "code",
   "execution_count": null,
   "metadata": {},
   "outputs": [],
   "source": []
  },
  {
   "cell_type": "code",
   "execution_count": null,
   "metadata": {},
   "outputs": [],
   "source": [
    "# Circumfrance of a cirle\n"
   ]
  },
  {
   "cell_type": "markdown",
   "metadata": {},
   "source": [
    "## Creating a Class (Initializing/Declaring)\n",
    "<p>When creating a class, function, or even a variable you are initializing that object. Initializing and Declaring occur at the same time in Python, whereas in lower level languages you have to declare an object before initializing it. This is the first step in the process of using a class.</p>"
   ]
  },
  {
   "cell_type": "code",
   "execution_count": 1,
   "metadata": {},
   "outputs": [],
   "source": [
    "class Car():\n",
    "    wheels=4\n",
    "    color='blue'"
   ]
  },
  {
   "cell_type": "markdown",
   "metadata": {},
   "source": [
    "## Using a Class (Instantiating)\n",
    "<p>The process of creating a class is called <i>Instantiating</i>. Each time you create a variable of that type of class, it is referred to as an <i>Instance</i> of that class. This is the second step in the process of using a class.</p>"
   ]
  },
  {
   "cell_type": "markdown",
   "metadata": {},
   "source": [
    "##### Creating One Instance"
   ]
  },
  {
   "cell_type": "code",
   "execution_count": 98,
   "metadata": {},
   "outputs": [
    {
     "ename": "TypeError",
     "evalue": "__init__() missing 4 required positional arguments: 'year', 'make', 'model', and 'battery'",
     "output_type": "error",
     "traceback": [
      "\u001b[1;31m---------------------------------------------------------------------------\u001b[0m",
      "\u001b[1;31mTypeError\u001b[0m                                 Traceback (most recent call last)",
      "\u001b[1;32m<ipython-input-98-685c666dd90e>\u001b[0m in \u001b[0;36m<module>\u001b[1;34m\u001b[0m\n\u001b[1;32m----> 1\u001b[1;33m \u001b[0mford\u001b[0m \u001b[1;33m=\u001b[0m \u001b[0mCar\u001b[0m\u001b[1;33m(\u001b[0m\u001b[1;33m)\u001b[0m\u001b[1;33m\u001b[0m\u001b[1;33m\u001b[0m\u001b[0m\n\u001b[0m",
      "\u001b[1;31mTypeError\u001b[0m: __init__() missing 4 required positional arguments: 'year', 'make', 'model', and 'battery'"
     ]
    }
   ],
   "source": [
    "ford = Car()"
   ]
  },
  {
   "cell_type": "markdown",
   "metadata": {},
   "source": [
    "##### Creating Multiple Instances"
   ]
  },
  {
   "cell_type": "code",
   "execution_count": 4,
   "metadata": {},
   "outputs": [
    {
     "data": {
      "text/plain": [
       "'blue'"
      ]
     },
     "execution_count": 4,
     "metadata": {},
     "output_type": "execute_result"
    }
   ],
   "source": [
    "chevy = Car()\n",
    "honda = Car()\n",
    "porsche = Car()\n",
    "\n",
    "porsche.color"
   ]
  },
  {
   "cell_type": "markdown",
   "metadata": {},
   "source": [
    "##### In-Class Exercise #1 - Create a Class 'Car' and Instantiate three different makes of cars"
   ]
  },
  {
   "cell_type": "code",
   "execution_count": 126,
   "metadata": {},
   "outputs": [
    {
     "name": "stdout",
     "output_type": "stream",
     "text": [
      "red\n",
      "4\n",
      "{}\n",
      "<class 'dict'>\n"
     ]
    }
   ],
   "source": [
    "class Car():\n",
    "    door=4\n",
    "    color='red'\n",
    "    wheels=4\n",
    "    sunRoof='Yes'\n",
    "\n",
    "maz=Car()\n",
    "bently=Car()\n",
    "fer=Car()\n",
    "\n",
    "name=list()\n",
    "name=[]\n",
    "\n",
    "print(bently.color)\n",
    "print(bently.wheels)\n",
    "print(bently.__dict__)\n",
    "print(type(bently.__dict__))"
   ]
  },
  {
   "cell_type": "markdown",
   "metadata": {},
   "source": [
    "## The \\__init\\__() Method <br>\n",
    "<p>This method is used in almost every created class, and called only once upon the creation of the class instance. This method will initialize all variables needed for the object.</p>"
   ]
  },
  {
   "cell_type": "code",
   "execution_count": 6,
   "metadata": {},
   "outputs": [
    {
     "name": "stdout",
     "output_type": "stream",
     "text": [
      "4\n"
     ]
    }
   ],
   "source": [
    "class Car():\n",
    "    engine='4.7L' #constant\n",
    "    \n",
    "    #Create the Constructor AKA the __init__ method\n",
    "    def __init__(Car,wheels):\n",
    "        Car.wheels=wheels\n",
    "ford=Car(4)\n",
    "print(ford.wheels)"
   ]
  },
  {
   "cell_type": "markdown",
   "metadata": {},
   "source": [
    "##### The 'self' Attribute <br>\n",
    "<p>This attribute is required to keep track of specific instance's attributes. Without the self attribute, the program would not know how to reference or keep track of an instance's attributes.</p>"
   ]
  },
  {
   "cell_type": "code",
   "execution_count": null,
   "metadata": {},
   "outputs": [],
   "source": [
    "# see above"
   ]
  },
  {
   "cell_type": "markdown",
   "metadata": {},
   "source": [
    "## Class Attributes <br>\n",
    "<p>While variables are inside of a class, they are referred to as attributes and not variables. When someone says 'attribute' you know they're speaking about a class. Attributes can be initialized through the init method, or outside of it.</p>"
   ]
  },
  {
   "cell_type": "markdown",
   "metadata": {},
   "source": [
    "##### Initializing Attributes"
   ]
  },
  {
   "cell_type": "code",
   "execution_count": 7,
   "metadata": {},
   "outputs": [
    {
     "name": "stdout",
     "output_type": "stream",
     "text": [
      "<class 'int'>\n"
     ]
    }
   ],
   "source": [
    "# see above\n",
    "\n",
    "class Toy():\n",
    "    kind = 'Car'\n",
    "    \n",
    "    def __init__(self,rooftop,horn,wheels):\n",
    "        selfrooftop = rooftop\n",
    "        self.horn = horn\n",
    "        self.wheels = wheels\n",
    "        \n",
    "tanka_truck = Toy(1,1,4)\n",
    "hotwheels_car= Toy(2,3,8)\n",
    "print(type(tanka_truck.wheels))"
   ]
  },
  {
   "cell_type": "markdown",
   "metadata": {},
   "source": [
    "##### Accessing Class Attributes"
   ]
  },
  {
   "cell_type": "code",
   "execution_count": null,
   "metadata": {
    "scrolled": true
   },
   "outputs": [],
   "source": [
    "# See Above"
   ]
  },
  {
   "cell_type": "markdown",
   "metadata": {},
   "source": [
    "##### Setting Defaults for Attributes"
   ]
  },
  {
   "cell_type": "code",
   "execution_count": 8,
   "metadata": {},
   "outputs": [
    {
     "name": "stdout",
     "output_type": "stream",
     "text": [
      "Honda Wheel 4 and Honda Color Blue\n",
      "Jeep Wheels 8 and Jeep Color Blue\n"
     ]
    }
   ],
   "source": [
    "class Car():\n",
    "    engine = '4.7L'\n",
    "    \n",
    "    def __init__(self,wheels):\n",
    "        self.wheels=wheels\n",
    "        self.color='Blue' #Default attribute\n",
    "        \n",
    "honda= Car(4)\n",
    "jeep= Car(8)\n",
    "\n",
    "print(f'Honda Wheel {honda.wheels} and Honda Color {honda.color}')\n",
    "print(f'Jeep Wheels {jeep.wheels} and Jeep Color {jeep.color}')\n",
    "\n",
    "        "
   ]
  },
  {
   "cell_type": "markdown",
   "metadata": {},
   "source": [
    "##### Changing Class Attributes <br>\n",
    "<p>Keep in mind there are global class attributes and then there are attributes only available to each class instance which won't effect other classes.</p>"
   ]
  },
  {
   "cell_type": "code",
   "execution_count": 9,
   "metadata": {},
   "outputs": [
    {
     "name": "stdout",
     "output_type": "stream",
     "text": [
      "White\n"
     ]
    }
   ],
   "source": [
    "jeep.color='White'\n",
    "print(jeep.color)"
   ]
  },
  {
   "cell_type": "code",
   "execution_count": null,
   "metadata": {},
   "outputs": [],
   "source": []
  },
  {
   "cell_type": "markdown",
   "metadata": {},
   "source": [
    "##### In-Class Exercise #2 - Add a doors and seats attribute to your 'Car' class then print out two different instances with different doors and seats"
   ]
  },
  {
   "cell_type": "code",
   "execution_count": 16,
   "metadata": {},
   "outputs": [
    {
     "name": "stdout",
     "output_type": "stream",
     "text": [
      "4 4 2\n",
      "5\n"
     ]
    }
   ],
   "source": [
    "class Car:\n",
    "    color='black'\n",
    "    def __init__(self,doors,seats):\n",
    "        self.doors=doors\n",
    "        self.seats=seats\n",
    "mazda = Car(4,5)\n",
    "tesla=Car(4,7)\n",
    "nissanZ=Car(2,2)\n",
    "print(mazda.doors, tesla.doors, nissanZ.doors)\n",
    "print(mazda.seats)\n"
   ]
  },
  {
   "cell_type": "code",
   "execution_count": 18,
   "metadata": {},
   "outputs": [
    {
     "data": {
      "text/plain": [
       "mappingproxy({'__module__': '__main__',\n",
       "              'color': 'black',\n",
       "              '__init__': <function __main__.Car.__init__(self, doors, seats)>,\n",
       "              '__dict__': <attribute '__dict__' of 'Car' objects>,\n",
       "              '__weakref__': <attribute '__weakref__' of 'Car' objects>,\n",
       "              '__doc__': None})"
      ]
     },
     "execution_count": 18,
     "metadata": {},
     "output_type": "execute_result"
    }
   ],
   "source": [
    "Car.__dict__"
   ]
  },
  {
   "cell_type": "code",
   "execution_count": 19,
   "metadata": {},
   "outputs": [
    {
     "data": {
      "text/plain": [
       "{'doors': 4, 'seats': 5}"
      ]
     },
     "execution_count": 19,
     "metadata": {},
     "output_type": "execute_result"
    }
   ],
   "source": [
    "mazda.__dict__"
   ]
  },
  {
   "cell_type": "markdown",
   "metadata": {},
   "source": [
    "## Class Methods <br>\n",
    "<p>While inside of a class, functions are referred to as 'methods'. If you hear someone mention methods, they're speaking about classes. Methods are essentially functions, but only callable on the instances of a class.</p>"
   ]
  },
  {
   "cell_type": "markdown",
   "metadata": {},
   "source": [
    "##### Creating"
   ]
  },
  {
   "cell_type": "code",
   "execution_count": 45,
   "metadata": {},
   "outputs": [
    {
     "name": "stdout",
     "output_type": "stream",
     "text": [
      "Bill Wiliams\n",
      "Bill Wiliams\n"
     ]
    }
   ],
   "source": [
    "class Employee():\n",
    "    \n",
    "    raise_amount=1.05\n",
    "    \n",
    "    def __init__(self,first,last,salary):\n",
    "        self.first=first\n",
    "        self.last=last\n",
    "        self.salary=salary\n",
    "        self.email=first+'.'+last+'@company.org'\n",
    "        \n",
    "    def full_name(self):\n",
    "        return (f'{self.first} {self.last}')\n",
    "    \n",
    "    def apply_raise(self):\n",
    "        self.salary=int(self.salary * self.raise_amount)\n",
    "        #   self.salary *=self.amount\n",
    "    def change_last_name(self,last):\n",
    "        self.last = last\n",
    "        self.email=self.first+' '+last+'@company.org'\n",
    "    \n",
    "emp_1=Employee('Bill','Wiliams',50000)\n",
    "emp_2=Employee('Sally','Field',100000)\n",
    "print(f'{emp_1.first} {emp_1.last}')\n",
    "print(emp_1.full_name())\n"
   ]
  },
  {
   "cell_type": "markdown",
   "metadata": {},
   "source": [
    "##### Calling"
   ]
  },
  {
   "cell_type": "code",
   "execution_count": 24,
   "metadata": {},
   "outputs": [
    {
     "name": "stdout",
     "output_type": "stream",
     "text": [
      "Bill Wiliams\n"
     ]
    }
   ],
   "source": [
    "# See Above\n",
    "print (f'{emp_1.first} {emp_1.last}')"
   ]
  },
  {
   "cell_type": "markdown",
   "metadata": {},
   "source": [
    "##### Modifying an Attribute's Value Through a Method"
   ]
  },
  {
   "cell_type": "code",
   "execution_count": 42,
   "metadata": {},
   "outputs": [
    {
     "name": "stdout",
     "output_type": "stream",
     "text": [
      "52500\n",
      "110000\n",
      "55125\n",
      "121000\n"
     ]
    }
   ],
   "source": [
    "print(emp_1.salary) #50,000\n",
    "print(emp_2.salary) #100,000\n",
    "emp_2.raise_amount=1.10\n",
    "emp_1.apply_raise()\n",
    "emp_2.apply_raise()\n",
    "print(emp_1.salary)\n",
    "print(emp_2.salary)"
   ]
  },
  {
   "cell_type": "code",
   "execution_count": 43,
   "metadata": {},
   "outputs": [
    {
     "data": {
      "text/plain": [
       "{'first': 'Bill',\n",
       " 'last': 'Wiliams',\n",
       " 'salary': 55125,\n",
       " 'email': 'Bill.Wiliams@company.org'}"
      ]
     },
     "execution_count": 43,
     "metadata": {},
     "output_type": "execute_result"
    }
   ],
   "source": [
    "emp_1.__dict__"
   ]
  },
  {
   "cell_type": "code",
   "execution_count": 47,
   "metadata": {},
   "outputs": [
    {
     "data": {
      "text/plain": [
       "{'first': 'Sally',\n",
       " 'last': 'Field',\n",
       " 'salary': 100000,\n",
       " 'email': 'Sally.Field@company.org'}"
      ]
     },
     "execution_count": 47,
     "metadata": {},
     "output_type": "execute_result"
    }
   ],
   "source": [
    "emp_2.__dict__"
   ]
  },
  {
   "cell_type": "code",
   "execution_count": 48,
   "metadata": {},
   "outputs": [
    {
     "data": {
      "text/plain": [
       "'Bill Wiliams'"
      ]
     },
     "execution_count": 48,
     "metadata": {},
     "output_type": "execute_result"
    }
   ],
   "source": [
    "emp_1.change_last_name('Billiams')\n",
    "emp_1.full_name()"
   ]
  },
  {
   "cell_type": "markdown",
   "metadata": {},
   "source": [
    "##### Incrementing an Attribute's Value Through a Method"
   ]
  },
  {
   "cell_type": "code",
   "execution_count": 46,
   "metadata": {},
   "outputs": [
    {
     "name": "stdout",
     "output_type": "stream",
     "text": [
      "50000\n",
      "52500\n",
      "55125\n"
     ]
    }
   ],
   "source": [
    "print(emp_1.salary)\n",
    "emp_1.apply_raise()\n",
    "print(emp_1.salary)\n",
    "emp_1.apply_raise()\n",
    "print(emp_1.salary)\n",
    "emp_1.apply_raise()\n",
    "print(emp_1.salary)"
   ]
  },
  {
   "cell_type": "markdown",
   "metadata": {},
   "source": [
    "##### In-Class Exercise #3 - Add a method that takes in three parameters of year, doors and seats and prints out a formatted print statement with make, model, year, seats, and doors"
   ]
  },
  {
   "cell_type": "code",
   "execution_count": 59,
   "metadata": {},
   "outputs": [
    {
     "name": "stdout",
     "output_type": "stream",
     "text": [
      "This car is a 1999 Suzuki Grand Vitara with 4 doors and 6 seats\n",
      "{'make': 'Suzuki', 'model': 'Grand Vitara', 'year': '1999', 'door': 4, 'seats': 6}\n"
     ]
    }
   ],
   "source": [
    "# Create class with 2 paramters inside of the __init__ which are make and model\n",
    "class Car():\n",
    "    def __init__(self,make,model):\n",
    "        self.make=make\n",
    "        self.model=model\n",
    "# Inside of the Car class create a method that has 4 parameter in total (self,year,door,seats)\n",
    "    def features(self, year, door, seats):\n",
    "        self.year=year\n",
    "        self.door=door\n",
    "        self.seats=seats\n",
    "        print(f'This car is a {year} {self.make} {self.model} with {door} doors and {seats} seats')\n",
    "# Output: This car is from 2019 and is a Ford Expolorer and has 4 doors and 5 seats\n",
    "\n",
    "car1=Car('Suzuki','Grand Vitara')\n",
    "car1.features('1999', 4, 6)\n",
    "print(car1.__dict__)"
   ]
  },
  {
   "cell_type": "markdown",
   "metadata": {},
   "source": [
    "## Inheritance <br>\n",
    "<p>You can create a child-parent relationship between two classes by using inheritance. What this allows you to do is have overriding methods, but also inherit traits from the parent class. Think of it as an actual parent and child, the child will inherit the parent's genes, as will the classes in OOP</p>"
   ]
  },
  {
   "cell_type": "markdown",
   "metadata": {},
   "source": [
    "##### Syntax for Inheriting from a Parent Class"
   ]
  },
  {
   "cell_type": "code",
   "execution_count": 66,
   "metadata": {},
   "outputs": [
    {
     "name": "stdout",
     "output_type": "stream",
     "text": [
      "Lassie has 15mph in speed and 9.8 in acceleration\n"
     ]
    }
   ],
   "source": [
    "#Creation of a Parent Class\n",
    "class Animal():\n",
    "    acceleration =9.8\n",
    "    def __init__(self,name,species,legs=4):\n",
    "        self.name=name\n",
    "        self.species=species\n",
    "        self.legs=legs\n",
    "        \n",
    "    def makeSound(self):\n",
    "        print(\"Some Generic SOund\")\n",
    "    \n",
    "#Creation of Child Class\n",
    "class Dog(Animal):\n",
    "    speed = 15\n",
    "    \n",
    "    #Constructor method to override inherited class\n",
    "    def __init__(self,name,species,color,legs=4):\n",
    "        Animal.__init__(self,name,species)\n",
    "        self.color=color\n",
    "    \n",
    "    def printInfo(self):\n",
    "        print(f'{self.name} has {self.speed}mph in speed and {self.acceleration} in acceleration')\n",
    "\n",
    "lassie=Dog('Lassie','dog','Brown')\n",
    "lassie.printInfo()"
   ]
  },
  {
   "cell_type": "markdown",
   "metadata": {},
   "source": [
    "##### The \\__init\\__() Method for a Child Class - super()"
   ]
  },
  {
   "cell_type": "code",
   "execution_count": 78,
   "metadata": {
    "scrolled": true
   },
   "outputs": [
    {
     "name": "stdout",
     "output_type": "stream",
     "text": [
      "Some Generic SOund\n",
      "Bark!\n"
     ]
    }
   ],
   "source": [
    "class Animal():\n",
    "    acceleration =9.8\n",
    "    def __init__(self,name,species,legs=4):\n",
    "        self.name=name\n",
    "        self.species=species\n",
    "        self.legs=legs\n",
    "        \n",
    "    def makeSound(self):\n",
    "        self.sound='Hello!'\n",
    "        print(\"Some Generic SOund\")\n",
    "    \n",
    "#Creation of Child Class\n",
    "class Dog(Animal):\n",
    "    speed = 15\n",
    "    \n",
    "    #Constructor method to override inherited class\n",
    "    def __init__(self,name,species,color,legs=4):\n",
    "        #Will execute the parent (Animal) class's __innit__ method\n",
    "        super().__init__(name,species,legs)\n",
    "        self.color=color\n",
    "    \n",
    "    def printInfo(self):\n",
    "        print(f'{self.name} has {self.speed}mph in speed and {self.acceleration} in acceleration')\n",
    "        \n",
    "    def makeSound(self):\n",
    "        #Will execute the parent (Animal) class's makeSound method\n",
    "        Animal.makeSound(self)\n",
    "        #continue with own class (Dog) makeSound method\n",
    "        print('Bark!')\n",
    "        \n",
    "class Mutt(Dog):\n",
    "    def __init__(self,name,species,color,legs=4):\n",
    "        super().__init__(name,species,color,legs)\n",
    "        \n",
    "buddy=Dog('Buddy','dog','black')\n",
    "buddy.makeSound()\n",
    "buddy.sound\n",
    "new_dog=Mutt('Bob','dog','brown')"
   ]
  },
  {
   "cell_type": "markdown",
   "metadata": {},
   "source": [
    "##### Defining Attributes and Methods for the Child Class"
   ]
  },
  {
   "cell_type": "code",
   "execution_count": null,
   "metadata": {},
   "outputs": [],
   "source": [
    "# See Above"
   ]
  },
  {
   "cell_type": "markdown",
   "metadata": {},
   "source": [
    "##### Method Overriding"
   ]
  },
  {
   "cell_type": "code",
   "execution_count": null,
   "metadata": {},
   "outputs": [],
   "source": [
    "# See Above"
   ]
  },
  {
   "cell_type": "markdown",
   "metadata": {},
   "source": [
    "## Classes as Attributes <br>\n",
    "<p>Classes can also be used as attributes within another class. This is useful in situations where you need to keep variables locally stored, instead of globally stored.</p>"
   ]
  },
  {
   "cell_type": "code",
   "execution_count": 82,
   "metadata": {},
   "outputs": [
    {
     "name": "stdout",
     "output_type": "stream",
     "text": [
      "20\n",
      "25\n"
     ]
    }
   ],
   "source": [
    "class Battery():\n",
    "    volts =7.8\n",
    "    def __init__(self,cells):\n",
    "        self.cells=cells\n",
    "        \n",
    "    def increaseCells(self):\n",
    "        self.cells+=5\n",
    "class Car():\n",
    "    \n",
    "    def __init__(self,year,make,model,battery):\n",
    "        self.year=year\n",
    "        self.make=make\n",
    "        self.model=model\n",
    "        self.battery=battery\n",
    "        \n",
    "    def printInfo(self):\n",
    "        print(self.year, self.make, self.model, self.battery)\n",
    "        \n",
    "bat_1=Battery(20)\n",
    "\n",
    "tesla=Car(2020,'Tesla','Model_X',bat_1)\n",
    "\n",
    "print(tesla.battery.cells)\n",
    "tesla.battery.increaseCells()\n",
    "print(tesla.battery.cells)"
   ]
  },
  {
   "cell_type": "markdown",
   "metadata": {},
   "source": [
    "# Exercises"
   ]
  },
  {
   "cell_type": "markdown",
   "metadata": {},
   "source": [
    "### Exercise 1 - Turn the shopping cart program from yesterday into an object-oriented program"
   ]
  },
  {
   "cell_type": "code",
   "execution_count": 136,
   "metadata": {},
   "outputs": [
    {
     "name": "stdout",
     "output_type": "stream",
     "text": [
      "What do you want to do add/remove/show or quit?: add\n",
      "What item do you want to add to your cart?: banana\n",
      "How many bananas do you want?: 10\n",
      "What do you want to do add/remove/show or quit?: show\n",
      "{'banana': 10}\n",
      "What do you want to do add/remove/show or quit?: add\n",
      "What item do you want to add to your cart?: eggs\n",
      "How many eggss do you want?: 15\n",
      "What do you want to do add/remove/show or quit?: remove\n",
      "What item do you want to remove from your cart?: eggs\n",
      "Do you want to remove an item or lower quantitiy?(Rely \"remove\" or \"lower\"):lower\n",
      "Lower quantity by:(input a number): 3\n",
      "What do you want to do add/remove/show or quit?: show\n",
      "{'banana': 10, 'eggs': 12}\n",
      "What do you want to do add/remove/show or quit?: remove\n",
      "What item do you want to remove from your cart?: crab legs\n",
      "You do not have crab legs in your cart.\n",
      "What do you want to do add/remove/show or quit?: remove\n",
      "What item do you want to remove from your cart?: banana\n",
      "Do you want to remove an item or lower quantitiy?(Rely \"remove\" or \"lower\"):remove\n",
      "What do you want to do add/remove/show or quit?: remove\n",
      "What item do you want to remove from your cart?: eggs\n",
      "Do you want to remove an item or lower quantitiy?(Rely \"remove\" or \"lower\"):lower\n",
      "Lower quantity by:(input a number): 15\n",
      "What do you want to do add/remove/show or quit?: show\n",
      "{}\n",
      "What do you want to do add/remove/show or quit?: quit\n",
      "{}\n"
     ]
    }
   ],
   "source": [
    "# Create a class called cart that retains items and has methods to add, remove, and show\n",
    "class Cart():\n",
    "    def __init__(self):\n",
    "        pass\n",
    "    def addItem(self, item):\n",
    "        if item in self.__dict__:\n",
    "            qty=int(input(f\"How many more {item}s do you want?: \"))\n",
    "            self.__dict__[item]+=qty\n",
    "        else: \n",
    "            qty=int(input(f\"How many {item}s do you want?: \"))\n",
    "            self.__dict__[item]=qty\n",
    "    def removeItem(self,item):\n",
    "        if item in self.__dict__:\n",
    "            \n",
    "            reply=input('Do you want to remove an item or lower quantitiy?(Rely \"remove\" or \"lower\"):')\n",
    "            if reply == \"remove\":\n",
    "                del self.__dict__[item]\n",
    "            elif reply == 'lower':\n",
    "                subtract=int(input('Lower quantity by:(input a number): '))\n",
    "                self.__dict__[item]-=subtract\n",
    "                if self.__dict__[item]<=0:\n",
    "                    del self.__dict__[item]\n",
    "            else:\n",
    "                print('Invalid Input, please respond with \"remove\" or \"lower\"')\n",
    "        else:\n",
    "            print(f'You do not have {item} in your cart.')\n",
    "    def showCart(self):\n",
    "        print(self.__dict__)\n",
    "        \n",
    "\n",
    "def shoppingCartSimulation():\n",
    "    myShoppingCart=Cart()\n",
    "    while True:\n",
    "        response = input('What do you want to do add/remove/show or quit?: ').lower()\n",
    "        \n",
    "        if response=='quit':\n",
    "            myShoppingCart.showCart()\n",
    "            break\n",
    "        elif response=='add':\n",
    "            addItem=input('What item do you want to add to your cart?: ')\n",
    "            myShoppingCart.addItem(addItem)\n",
    "        elif response=='remove':\n",
    "            removeItem=input('What item do you want to remove from your cart?: ')\n",
    "            myShoppingCart.removeItem(removeItem)\n",
    "        elif response=='show':\n",
    "            myShoppingCart.showCart()\n",
    "        else:\n",
    "            print('Invalid Input: Please enter \"add\", \"remove\", \"show\", or \"quit\"')\n",
    "shoppingCartSimulation()"
   ]
  },
  {
   "cell_type": "markdown",
   "metadata": {},
   "source": [
    "### Exercise 2 - Write a Python class which has two methods get_String and print_String. get_String accept a string from the user and print_String print the string in upper case"
   ]
  },
  {
   "cell_type": "code",
   "execution_count": 1,
   "metadata": {},
   "outputs": [
    {
     "name": "stdout",
     "output_type": "stream",
     "text": [
      "Input whatever you want here: hi\n",
      "HI\n"
     ]
    }
   ],
   "source": [
    "class StrEx():\n",
    "    def get_String(self):\n",
    "        self.output=input('Input whatever you want here: ')\n",
    "    def print_String(self):\n",
    "        print(self.output.upper())\n",
    "\n",
    "test=StrEx()\n",
    "test.get_String()\n",
    "test.print_String()"
   ]
  }
 ],
 "metadata": {
  "kernelspec": {
   "display_name": "Python 3",
   "language": "python",
   "name": "python3"
  },
  "language_info": {
   "codemirror_mode": {
    "name": "ipython",
    "version": 3
   },
   "file_extension": ".py",
   "mimetype": "text/x-python",
   "name": "python",
   "nbconvert_exporter": "python",
   "pygments_lexer": "ipython3",
   "version": "3.8.5"
  }
 },
 "nbformat": 4,
 "nbformat_minor": 2
}
